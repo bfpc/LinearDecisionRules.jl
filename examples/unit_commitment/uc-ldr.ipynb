{
 "cells": [
  {
   "cell_type": "markdown",
   "metadata": {},
   "source": [
    "# Load dependencies"
   ]
  },
  {
   "cell_type": "code",
   "execution_count": null,
   "metadata": {},
   "outputs": [],
   "source": [
    "using Pkg\n",
    "Pkg.activate(@__DIR__)"
   ]
  },
  {
   "cell_type": "code",
   "execution_count": null,
   "metadata": {},
   "outputs": [],
   "source": [
    "env = Pkg.Types.EnvCache(joinpath(@__DIR__, \"Project.toml\"))\n",
    "if !Pkg.Operations.is_instantiated(env)\n",
    "    print(\"Instantiating environment... \")\n",
    "    # Needed while the package is not registered\n",
    "    package_dir = joinpath(@__DIR__, \"..\", \"..\")\n",
    "    Pkg.develop(path=package_dir)\n",
    "    # The \"develop\" command will automatically instantiate the environment\n",
    "    # Pkg.instantiate()\n",
    "    # Current dependencies\n",
    "    # Pkg.add([\"Plots\", \"JuMP\", \"HiGHS\", \"JSON\", \"Distributions\"])\n",
    "end\n"
   ]
  },
  {
   "cell_type": "code",
   "execution_count": null,
   "metadata": {},
   "outputs": [],
   "source": [
    "using Plots\n",
    "using JSON\n",
    "using JuMP\n",
    "using HiGHS\n",
    "#\n",
    "using Statistics\n",
    "using Random"
   ]
  },
  {
   "cell_type": "markdown",
   "metadata": {},
   "source": [
    "## Read input data"
   ]
  },
  {
   "cell_type": "code",
   "execution_count": null,
   "metadata": {},
   "outputs": [],
   "source": [
    "data = JSON.parsefile(joinpath(@__DIR__, \"30_2017-01-01.json\"))"
   ]
  },
  {
   "cell_type": "code",
   "execution_count": null,
   "metadata": {},
   "outputs": [],
   "source": [
    "data[\"Parameters\"]"
   ]
  },
  {
   "cell_type": "code",
   "execution_count": null,
   "metadata": {},
   "outputs": [],
   "source": [
    "@show T = data[\"Parameters\"][\"Time horizon (h)\"]\n",
    "demand = zeros(T)\n",
    "for ts in values(data[\"Buses\"])\n",
    "    load = ts[\"Load (MW)\"]\n",
    "    if length(load) > 1\n",
    "        demand .+= load\n",
    "    end\n",
    "end\n",
    "plot(demand, linewidth=2, title=\"Demand\", xlabel=\"Time\", ylabel=\"MW\")\n"
   ]
  },
  {
   "cell_type": "code",
   "execution_count": null,
   "metadata": {},
   "outputs": [],
   "source": [
    "# Check the Reserves' data structure\n",
    "for res in values(data[\"Reserves\"])\n",
    "    @assert res[\"Type\"] == \"Spinning\"\n",
    "    @assert length(res[\"Amount (MW)\"]) == T\n",
    "end"
   ]
  },
  {
   "cell_type": "code",
   "execution_count": null,
   "metadata": {},
   "outputs": [],
   "source": [
    "single_reserve = zeros(T)\n",
    "for ts in values(data[\"Reserves\"])\n",
    "    res = ts[\"Amount (MW)\"]\n",
    "    single_reserve .+= res\n",
    "end\n",
    "plot(single_reserve, linewidth=2, title=\"Reserve\", xlabel=\"Time\", ylabel=\"MW\")"
   ]
  },
  {
   "cell_type": "code",
   "execution_count": null,
   "metadata": {},
   "outputs": [],
   "source": [
    "generator_names = collect(keys(data[\"Generators\"]))"
   ]
  },
  {
   "cell_type": "markdown",
   "metadata": {},
   "source": [
    "# Regular (deterministic) UC"
   ]
  },
  {
   "cell_type": "code",
   "execution_count": null,
   "metadata": {},
   "outputs": [],
   "source": [
    "uc = Model(HiGHS.Optimizer)\n",
    "\n",
    "# Define variables\n",
    "\n",
    "# deficit\n",
    "@variable(uc, 0 <= deficit[t in 1:T])\n",
    "# plant on/off\n",
    "@variable(uc, 0 <= x[i in keys(data[\"Generators\"]), t in 0:T] <= 1, Bin)\n",
    "# startup\n",
    "@variable(uc, 0 <= y[i in keys(data[\"Generators\"]), t in 1:T] <= 1)\n",
    "# generator output\n",
    "@variable(uc, 0 <= g[i in keys(data[\"Generators\"]), t in 0:T]\n",
    "    <= data[\"Generators\"][i][\"Production cost curve (MW)\"][end])\n",
    "\n",
    "# Define constraints\n",
    "\n",
    "# load balance\n",
    "@constraint(uc, LoadBalance[t in 1:T], sum(g[i, t] for i in keys(data[\"Generators\"])) + deficit[t] == demand[t])\n",
    "\n",
    "# initial state\n",
    "@constraint(uc, [i in keys(data[\"Generators\"])],\n",
    "    g[i, 0] == data[\"Generators\"][i][\"Initial power (MW)\"])\n",
    "@constraint(uc, [i in keys(data[\"Generators\"])],\n",
    "    x[i, 0] == ifelse(data[\"Generators\"][i][\"Initial power (MW)\"] > 0, 1, 0))\n",
    "# ramp limit\n",
    "@constraint(uc, [i in keys(data[\"Generators\"]), t in 1:T],\n",
    "    g[i, t] - g[i, t-1] <= data[\"Generators\"][i][\"Ramp up limit (MW)\"])\n",
    "@constraint(uc, [i in keys(data[\"Generators\"]), t in 1:T],\n",
    "    g[i, t-1] - g[i, t] <= data[\"Generators\"][i][\"Ramp down limit (MW)\"])\n",
    "# startup and shutdown\n",
    "@constraint(uc, [i in keys(data[\"Generators\"]), t in 1:T],\n",
    "    g[i, t]\n",
    "    <= x[i, t] * data[\"Generators\"][i][\"Production cost curve (MW)\"][end])\n",
    "@constraint(uc, [i in keys(data[\"Generators\"]), t in 1:T],\n",
    "    g[i, t] >= x[i, t] * data[\"Generators\"][i][\"Production cost curve (MW)\"][1])\n",
    "@constraint(uc, [i in keys(data[\"Generators\"]), t in 1:T],\n",
    "    x[i, t] - x[i, t-1] <= y[i, t])\n",
    "\n",
    "# Define objective\n",
    "\n",
    "@objective(uc, Min,\n",
    "    # generator variable costs\n",
    "    sum(\n",
    "        (data[\"Generators\"][i][\"Production cost curve (\\$)\"][end] /\n",
    "            data[\"Generators\"][i][\"Production cost curve (MW)\"][end])\n",
    "        * g[i, t] for i in keys(data[\"Generators\"]), t in 0:T)\n",
    "    # startup costs\n",
    "    + sum(\n",
    "        data[\"Generators\"][i][\"Startup costs (\\$)\"][1]\n",
    "        * y[i, t] for i in keys(data[\"Generators\"]), t in 1:T)\n",
    "    # deficit costs\n",
    "    + sum(\n",
    "        deficit[t] * data[\"Parameters\"][\"Power balance penalty (\\$/MW)\"] for t in 1:T)\n",
    ")\n",
    "# set_silent(uc)\n",
    "optimize!(uc)\n",
    "det_obj = objective_value(uc)"
   ]
  },
  {
   "cell_type": "code",
   "execution_count": null,
   "metadata": {},
   "outputs": [],
   "source": [
    "uc"
   ]
  },
  {
   "cell_type": "code",
   "execution_count": null,
   "metadata": {},
   "outputs": [],
   "source": [
    "det_x = value.(uc[:x])\n",
    "det_g = Matrix(value.(uc[:g]))\n",
    "det_d = value.(uc[:deficit])\n",
    "p = plot(title=\"Generation / Deficit\", xlabel=\"Hours\", ylabel=\"Power (MW)\")\n",
    "plot!(p, det_g', linewidth=2, labels=reshape(generator_names, 1, :))\n",
    "plot!(p, det_d, linewidth=4, labels=\"deficit\")"
   ]
  },
  {
   "cell_type": "markdown",
   "metadata": {},
   "source": [
    "# Generate scenarios"
   ]
  },
  {
   "cell_type": "code",
   "execution_count": null,
   "metadata": {},
   "outputs": [],
   "source": [
    "S = 20\n",
    "rng = Random.MersenneTwister(0)\n",
    "range = 3.0\n",
    "base_demand = deepcopy(demand)\n",
    "scenario_demand = zeros(T, S)\n",
    "for s in 1:S\n",
    "    for t in 1:T\n",
    "        scenario_demand[t, s] = max(0, base_demand[t] + (range * single_reserve[t] * randn(rng)))\n",
    "    end\n",
    "end\n",
    "plot(scenario_demand, linewidth=2, title=\"$S demand scenarios\", xlabel=\"Time\", ylabel=\"MW\", legend=:false)"
   ]
  },
  {
   "cell_type": "markdown",
   "metadata": {},
   "source": [
    "# Standard stochastic (SAA) UC"
   ]
  },
  {
   "cell_type": "code",
   "execution_count": null,
   "metadata": {},
   "outputs": [],
   "source": [
    "uc_saa = Model(HiGHS.Optimizer)\n",
    "\n",
    "# Define variables\n",
    "\n",
    "# deficit\n",
    "@variable(uc_saa, 0 <= deficit[t in 1:T, s in 1:S])\n",
    "# plant on/off\n",
    "@variable(uc_saa, 0 <= x[i in keys(data[\"Generators\"]), t in 0:T] <= 1, Bin)\n",
    "# startup\n",
    "@variable(uc_saa, 0 <= y[i in keys(data[\"Generators\"]), t in 1:T] <= 1)\n",
    "# generator output\n",
    "@variable(uc_saa, 0 <= g[i in keys(data[\"Generators\"]), t in 0:T, s in 1:S]\n",
    "    <= data[\"Generators\"][i][\"Production cost curve (MW)\"][end])\n",
    "\n",
    "# Define constraints\n",
    "\n",
    "# load balance\n",
    "@constraint(uc_saa, LoadBalance[t in 1:T, s in 1:S],\n",
    "    sum(g[i, t, s] for i in keys(data[\"Generators\"])) + deficit[t, s] == scenario_demand[t, s])\n",
    "\n",
    "# initial state\n",
    "@constraint(uc_saa, [i in keys(data[\"Generators\"]), s in 1:S],\n",
    "    g[i, 0, s] == data[\"Generators\"][i][\"Initial power (MW)\"])\n",
    "@constraint(uc_saa, [i in keys(data[\"Generators\"])],\n",
    "    x[i, 0] == ifelse(data[\"Generators\"][i][\"Initial power (MW)\"] > 0, 1, 0))\n",
    "# ramp limit\n",
    "@constraint(uc_saa, [i in keys(data[\"Generators\"]), t in 1:T, s in 1:S],\n",
    "    g[i, t, s] - g[i, t-1, s] <= data[\"Generators\"][i][\"Ramp up limit (MW)\"])\n",
    "@constraint(uc_saa, [i in keys(data[\"Generators\"]), t in 1:T, s in 1:S],\n",
    "    g[i, t-1, s] - g[i, t, s] <= data[\"Generators\"][i][\"Ramp down limit (MW)\"])\n",
    "# startup and shutdown\n",
    "@constraint(uc_saa, [i in keys(data[\"Generators\"]), t in 1:T, s in 1:S],\n",
    "    g[i, t, s]\n",
    "    <= x[i, t] * data[\"Generators\"][i][\"Production cost curve (MW)\"][end])\n",
    "@constraint(uc_saa, [i in keys(data[\"Generators\"]), t in 1:T, s in 1:S],\n",
    "    g[i, t, s] >= x[i, t] * data[\"Generators\"][i][\"Production cost curve (MW)\"][1])\n",
    "@constraint(uc_saa, [i in keys(data[\"Generators\"]), t in 1:T],\n",
    "    x[i, t] - x[i, t-1] <= y[i, t])\n",
    "\n",
    "# Define objective\n",
    "\n",
    "@objective(uc_saa, Min,\n",
    "    # generator variable costs\n",
    "    (1/S) * sum(\n",
    "        (data[\"Generators\"][i][\"Production cost curve (\\$)\"][end] /\n",
    "            data[\"Generators\"][i][\"Production cost curve (MW)\"][end])\n",
    "        * g[i, t, s] for i in keys(data[\"Generators\"]), t in 0:T, s in 1:S)\n",
    "    # startup costs\n",
    "    + sum(\n",
    "        data[\"Generators\"][i][\"Startup costs (\\$)\"][1]\n",
    "        * y[i, t] for i in keys(data[\"Generators\"]), t in 1:T)\n",
    "    # deficit costs\n",
    "    + (1/S) * sum(\n",
    "        deficit[t, s] * data[\"Parameters\"][\"Power balance penalty (\\$/MW)\"] for t in 1:T, s in 1:S)\n",
    ")\n",
    "# set_silent(uc_saa)\n",
    "set_optimizer_attribute(uc_saa, \"mip_rel_gap\", 0.01)\n",
    "set_time_limit_sec(uc_saa, 300)\n",
    "optimize!(uc_saa)\n",
    "saa_obj = objective_value(uc_saa)"
   ]
  },
  {
   "cell_type": "code",
   "execution_count": null,
   "metadata": {},
   "outputs": [],
   "source": [
    "saa_x = value.(uc_saa[:x])\n",
    "saa_g = mean(Array{Float64, 3}(value.(uc_saa[:g])), dims=3)[:,:,1]\n",
    "saa_d = mean(Array{Float64, 2}(value.(uc_saa[:deficit])), dims=2)[:,1]\n",
    "p = plot(title=\"Generation / Deficit\", xlabel=\"Hours\", ylabel=\"Power (MW)\")\n",
    "plot!(p, saa_g', linewidth=2, labels=reshape(generator_names, 1, :))\n",
    "plot!(p, saa_d, linewidth=4, labels=\"deficit\")"
   ]
  },
  {
   "cell_type": "markdown",
   "metadata": {},
   "source": [
    "# Affine UC"
   ]
  },
  {
   "cell_type": "code",
   "execution_count": null,
   "metadata": {},
   "outputs": [],
   "source": [
    "uc_ldr = Model(HiGHS.Optimizer)\n",
    "\n",
    "poly_size = 1\n",
    "max_lag = max(1, 3)\n",
    "\n",
    "# Define variables\n",
    "\n",
    "# deficit\n",
    "@variable(uc_ldr, 0 <= deficit[t in 1:T, s in 1:S])\n",
    "# plant on/off\n",
    "@variable(uc_ldr, 0 <= x[i in keys(data[\"Generators\"]), t in 0:T] <= 1, Bin)\n",
    "# startup\n",
    "@variable(uc_ldr, 0 <= y[i in keys(data[\"Generators\"]), t in 1:T] <= 1)\n",
    "# generator output\n",
    "@variable(uc_ldr, 0 <= g[i in keys(data[\"Generators\"]), t in 0:T, s in 1:S]\n",
    "    <= data[\"Generators\"][i][\"Production cost curve (MW)\"][end])\n",
    "\n",
    "# LDR coefs\n",
    "@variable(uc_ldr, rule_g[i in keys(data[\"Generators\"]), t in 0:T, lag in 1:min(t, T), p in 0:poly_size])\n",
    "@constraint(uc_ldr, [i in keys(data[\"Generators\"]), t in 1:T, s in 1:S],\n",
    "    g[i, t, s] == sum(rule_g[i, t, lag, p] * (scenario_demand[t + 1 - lag, s])^p for p in 0:poly_size, lag in 1:min(t, max_lag)))\n",
    "\n",
    "# Define constraints\n",
    "\n",
    "# load balance\n",
    "@constraint(uc_ldr, LoadBalance[t in 1:T, s in 1:S],\n",
    "    sum(g[i, t, s] for i in keys(data[\"Generators\"])) + deficit[t, s] == scenario_demand[t, s])\n",
    "\n",
    "# initial state\n",
    "@constraint(uc_ldr, [i in keys(data[\"Generators\"]), s in 1:S],\n",
    "    g[i, 0, s] == data[\"Generators\"][i][\"Initial power (MW)\"])\n",
    "@constraint(uc_ldr, [i in keys(data[\"Generators\"])],\n",
    "    x[i, 0] == ifelse(data[\"Generators\"][i][\"Initial power (MW)\"] > 0, 1, 0))\n",
    "# ramp limit\n",
    "@constraint(uc_ldr, [i in keys(data[\"Generators\"]), t in 1:T, s in 1:S],\n",
    "    g[i, t, s] - g[i, t-1, s] <= data[\"Generators\"][i][\"Ramp up limit (MW)\"])\n",
    "@constraint(uc_ldr, [i in keys(data[\"Generators\"]), t in 1:T, s in 1:S],\n",
    "    g[i, t-1, s] - g[i, t, s] <= data[\"Generators\"][i][\"Ramp down limit (MW)\"])\n",
    "# startup and shutdown\n",
    "@constraint(uc_ldr, [i in keys(data[\"Generators\"]), t in 1:T, s in 1:S],\n",
    "    g[i, t, s]\n",
    "    <= x[i, t] * data[\"Generators\"][i][\"Production cost curve (MW)\"][end])\n",
    "@constraint(uc_ldr, [i in keys(data[\"Generators\"]), t in 1:T, s in 1:S],\n",
    "    g[i, t, s] >= x[i, t] * data[\"Generators\"][i][\"Production cost curve (MW)\"][1])\n",
    "@constraint(uc_ldr, [i in keys(data[\"Generators\"]), t in 1:T],\n",
    "    x[i, t] - x[i, t-1] <= y[i, t])\n",
    "\n",
    "# Define objective\n",
    "\n",
    "@objective(uc_ldr, Min,\n",
    "    # generator variable costs\n",
    "    (1/S) * sum(\n",
    "        (data[\"Generators\"][i][\"Production cost curve (\\$)\"][end] /\n",
    "            data[\"Generators\"][i][\"Production cost curve (MW)\"][end])\n",
    "        * g[i, t, s] for i in keys(data[\"Generators\"]), t in 0:T, s in 1:S)\n",
    "    # startup costs\n",
    "    + sum(\n",
    "        data[\"Generators\"][i][\"Startup costs (\\$)\"][1]\n",
    "        * y[i, t] for i in keys(data[\"Generators\"]), t in 1:T)\n",
    "    # deficit costs\n",
    "    + (1/S) * sum(\n",
    "        deficit[t, s] * data[\"Parameters\"][\"Power balance penalty (\\$/MW)\"] for t in 1:T, s in 1:S)\n",
    ")\n",
    "# set_silent(uc_ldr)\n",
    "set_optimizer_attribute(uc_ldr, \"mip_rel_gap\", 0.01)\n",
    "set_time_limit_sec(uc_ldr, 300)\n",
    "optimize!(uc_ldr)\n",
    "ldr_obj = objective_value(uc_ldr)"
   ]
  },
  {
   "cell_type": "code",
   "execution_count": null,
   "metadata": {},
   "outputs": [],
   "source": [
    "ldr_rule_g = value.(uc_ldr[:rule_g])\n",
    "\n",
    "ldr_x = value.(uc_ldr[:x])\n",
    "ldr_g = mean(Array{Float64, 3}(value.(uc_ldr[:g])), dims=3)[:,:,1]\n",
    "ldr_d = mean(Array{Float64, 2}(value.(uc_ldr[:deficit])), dims=2)[:,1]\n",
    "p = plot(title=\"Generation / Deficit\", xlabel=\"Hours\", ylabel=\"Power (MW)\")\n",
    "plot!(p, ldr_g', linewidth=2, labels=reshape(generator_names, 1, :))\n",
    "plot!(p, ldr_d, linewidth=4, labels=\"deficit\")"
   ]
  },
  {
   "cell_type": "markdown",
   "metadata": {},
   "source": [
    "# Polyhedral LDR UC"
   ]
  },
  {
   "cell_type": "code",
   "execution_count": null,
   "metadata": {},
   "outputs": [],
   "source": [
    "using Distributions\n",
    "using LinearDecisionRules\n",
    "LDR = LinearDecisionRules;"
   ]
  },
  {
   "cell_type": "code",
   "execution_count": null,
   "metadata": {},
   "outputs": [],
   "source": [
    "# Demand uncertainty for the LDR\n",
    "range = 3.0\n",
    "sigmas = 2.5\n",
    "ampl_var = deepcopy(single_reserve) * range\n",
    "var_demand = Normal.(0.0, ampl_var)\n",
    "var_demand = truncated.(var_demand, -sigmas * ampl_var, sigmas * ampl_var)\n",
    "\n",
    "base_demand = deepcopy(demand)\n",
    "plot(title=\"Demand band of $(sigmas)σ, with σ = $(range) × reserve, \", xlabel=\"Time\", ylabel=\"MW\")\n",
    "plot!(demand, linewidth=2, label=\"Demand\")\n",
    "plot!(demand .+ sigmas * ampl_var, linewidth=1, label=\"Upper Demand\")\n",
    "plot!(demand .- sigmas * ampl_var, linewidth=1, label=\"Lower Demand\")"
   ]
  },
  {
   "cell_type": "code",
   "execution_count": null,
   "metadata": {},
   "outputs": [],
   "source": [
    "uc_ldr_p = LDR.LDRModel(HiGHS.Optimizer)\n",
    "\n",
    "# Define variables\n",
    "\n",
    "# deficit\n",
    "@variable(uc_ldr_p, 0 <= deficit[t in 1:T])\n",
    "# plant on/off\n",
    "@variable(uc_ldr_p, 0 <= x[i in keys(data[\"Generators\"]), t in 0:T] <= 1, LDR.FirstStage, integer=true)\n",
    "# startup\n",
    "@variable(uc_ldr_p, 0 <= y[i in keys(data[\"Generators\"]), t in 1:T] <= 1, LDR.FirstStage, integer=true)\n",
    "# generator output\n",
    "@variable(uc_ldr_p, 0 <= g[i in keys(data[\"Generators\"]), t in 0:T]\n",
    "    <= data[\"Generators\"][i][\"Production cost curve (MW)\"][end])\n",
    "\n",
    "# variable Demand\n",
    "@variable(uc_ldr_p, demand_extra[t in 1:T] in LDR.Uncertainty(distribution=var_demand[t]))\n",
    "\n",
    "# Define constraints\n",
    "\n",
    "# load balance\n",
    "@constraint(uc_ldr_p, LoadBalance[t in 1:T], sum(g[i, t] for i in keys(data[\"Generators\"])) + deficit[t] == demand[t] + demand_extra[t])\n",
    "\n",
    "# initial state\n",
    "@constraint(uc_ldr_p, [i in keys(data[\"Generators\"])],\n",
    "    g[i, 0] == data[\"Generators\"][i][\"Initial power (MW)\"])\n",
    "@constraint(uc_ldr_p, [i in keys(data[\"Generators\"])],\n",
    "    x[i, 0] == ifelse(data[\"Generators\"][i][\"Initial power (MW)\"] > 0, 1, 0))\n",
    "# ramp limit\n",
    "@constraint(uc_ldr_p, [i in keys(data[\"Generators\"]), t in 1:T],\n",
    "    g[i, t] - g[i, t-1] <= data[\"Generators\"][i][\"Ramp up limit (MW)\"])\n",
    "@constraint(uc_ldr_p, [i in keys(data[\"Generators\"]), t in 1:T],\n",
    "    g[i, t-1] - g[i, t] <= data[\"Generators\"][i][\"Ramp down limit (MW)\"])\n",
    "# startup and shutdown\n",
    "@constraint(uc_ldr_p, [i in keys(data[\"Generators\"]), t in 1:T],\n",
    "    g[i, t]\n",
    "    <= x[i, t] * data[\"Generators\"][i][\"Production cost curve (MW)\"][end])\n",
    "@constraint(uc_ldr_p, [i in keys(data[\"Generators\"]), t in 1:T],\n",
    "    g[i, t] >= x[i, t] * data[\"Generators\"][i][\"Production cost curve (MW)\"][1])\n",
    "@constraint(uc_ldr_p, [i in keys(data[\"Generators\"]), t in 1:T],\n",
    "    x[i, t] - x[i, t-1] <= y[i, t])\n",
    "\n",
    "# Define objective\n",
    "\n",
    "@objective(uc_ldr_p, Min,\n",
    "    # generator variable costs\n",
    "    sum(\n",
    "        (data[\"Generators\"][i][\"Production cost curve (\\$)\"][end] /\n",
    "            data[\"Generators\"][i][\"Production cost curve (MW)\"][end])\n",
    "        * g[i, t] for i in keys(data[\"Generators\"]), t in 0:T)\n",
    "    # startup costs\n",
    "    + sum(\n",
    "        data[\"Generators\"][i][\"Startup costs (\\$)\"][1]\n",
    "        * y[i, t] for i in keys(data[\"Generators\"]), t in 1:T)\n",
    "    # deficit costs\n",
    "    + sum(\n",
    "        deficit[t] * data[\"Parameters\"][\"Power balance penalty (\\$/MW)\"] for t in 1:T)\n",
    ")\n",
    "# set_silent(uc_ldr_p)\n",
    "set_attribute(uc_ldr_p, LDR.SolveDual(), false)\n",
    "optimize!(uc_ldr_p)\n",
    "ldr_p_obj = objective_value(uc_ldr_p)"
   ]
  },
  {
   "cell_type": "code",
   "execution_count": null,
   "metadata": {},
   "outputs": [],
   "source": [
    "ldr_p_x = LDR.get_decision.(uc_ldr_p, uc_ldr_p[:x])\n",
    "ldr_p_g = Matrix(LDR.get_decision.(uc_ldr_p, uc_ldr_p[:g]))\n",
    "ldr_p_d = LDR.get_decision.(uc_ldr_p, uc_ldr_p[:deficit])\n",
    "p = plot(title=\"LDR decision\", xlabel=\"Hours\", ylabel=\"Power (MW)\")\n",
    "plot!(p, ldr_p_g', linewidth=2, label=reshape(generator_names, 1, :))\n",
    "plot!(p, ldr_p_d, linewidth=4, label=\"Deficit\")"
   ]
  },
  {
   "cell_type": "markdown",
   "metadata": {},
   "source": [
    "# Out-of-sample tests"
   ]
  },
  {
   "cell_type": "code",
   "execution_count": null,
   "metadata": {},
   "outputs": [],
   "source": [
    "function run_scenario(_x, _demand)\n",
    "\n",
    "uc = Model(HiGHS.Optimizer)\n",
    "\n",
    "# Define variables\n",
    "\n",
    "# deficit\n",
    "@variable(uc, 0 <= deficit[t in 1:T])\n",
    "# plant on/off\n",
    "@variable(uc, x[i in keys(data[\"Generators\"]), t in 0:T] == _x[i, t])\n",
    "# startup\n",
    "@variable(uc, 0 <= y[i in keys(data[\"Generators\"]), t in 1:T] <= 1)\n",
    "# generator output\n",
    "@variable(uc, 0 <= g[i in keys(data[\"Generators\"]), t in 0:T]\n",
    "    <= data[\"Generators\"][i][\"Production cost curve (MW)\"][end])\n",
    "\n",
    "# Define constraints\n",
    "\n",
    "# load balance\n",
    "@constraint(uc, LoadBalance[t in 1:T],\n",
    "    sum(g[i, t] for i in keys(data[\"Generators\"])) + deficit[t] == _demand[t])\n",
    "\n",
    "# initial state\n",
    "@constraint(uc, [i in keys(data[\"Generators\"])],\n",
    "    g[i, 0] == data[\"Generators\"][i][\"Initial power (MW)\"])\n",
    "@constraint(uc, [i in keys(data[\"Generators\"])],\n",
    "    x[i, 0] == ifelse(data[\"Generators\"][i][\"Initial power (MW)\"] > 0, 1, 0))\n",
    "# ramp limit\n",
    "@constraint(uc, [i in keys(data[\"Generators\"]), t in 1:T],\n",
    "    g[i, t] - g[i, t-1] <= data[\"Generators\"][i][\"Ramp up limit (MW)\"])\n",
    "@constraint(uc, [i in keys(data[\"Generators\"]), t in 1:T],\n",
    "    g[i, t-1] - g[i, t] <= data[\"Generators\"][i][\"Ramp down limit (MW)\"])\n",
    "# startup and shutdown\n",
    "@constraint(uc, [i in keys(data[\"Generators\"]), t in 1:T],\n",
    "    g[i, t]\n",
    "    <= x[i, t] * data[\"Generators\"][i][\"Production cost curve (MW)\"][end])\n",
    "@constraint(uc, [i in keys(data[\"Generators\"]), t in 1:T],\n",
    "    g[i, t] >= x[i, t] * data[\"Generators\"][i][\"Production cost curve (MW)\"][1])\n",
    "@constraint(uc, [i in keys(data[\"Generators\"]), t in 1:T],\n",
    "    x[i, t] - x[i, t-1] <= y[i, t])\n",
    "\n",
    "# Define objective\n",
    "\n",
    "@objective(uc, Min,\n",
    "    # generator variable costs\n",
    "    sum(\n",
    "        (data[\"Generators\"][i][\"Production cost curve (\\$)\"][end] /\n",
    "            data[\"Generators\"][i][\"Production cost curve (MW)\"][end])\n",
    "        * g[i, t] for i in keys(data[\"Generators\"]), t in 0:T)\n",
    "    # startup costs\n",
    "    + sum(\n",
    "        data[\"Generators\"][i][\"Startup costs (\\$)\"][1]\n",
    "        * y[i, t] for i in keys(data[\"Generators\"]), t in 1:T)\n",
    "    # deficit costs\n",
    "    + sum(\n",
    "        deficit[t] * data[\"Parameters\"][\"Power balance penalty (\\$/MW)\"] for t in 1:T)\n",
    ")\n",
    "\n",
    "set_silent(uc)\n",
    "optimize!(uc)\n",
    "\n",
    "return objective_value(uc)\n",
    "end"
   ]
  },
  {
   "cell_type": "code",
   "execution_count": null,
   "metadata": {},
   "outputs": [],
   "source": [
    "rng = Random.MersenneTwister(123)\n",
    "S_out = 50\n",
    "range = 3.0\n",
    "base_demand = deepcopy(demand)\n",
    "scenario_demand_out = zeros(T, S_out)\n",
    "for s in 1:S_out\n",
    "    for t in 1:T\n",
    "        scenario_demand_out[t, s] = max(0, base_demand[t] + (range * single_reserve[t] * randn(rng)))\n",
    "    end\n",
    "end\n",
    "plot(scenario_demand_out, linewidth=2, title=\"$(S_out) demand curves\", xlabel=\"Time\", ylabel=\"MW\", legend=:false)"
   ]
  },
  {
   "cell_type": "code",
   "execution_count": null,
   "metadata": {},
   "outputs": [],
   "source": [
    "for s in 1:50\n",
    "    if all(scenario_demand_out[:, s] .< demand .+ ampl_var * sigmas) &&\n",
    "        all(scenario_demand_out[:, s] .> demand .- ampl_var * sigmas)\n",
    "        continue\n",
    "    else\n",
    "        println(\"Scenario $s goes out of support\")\n",
    "    end\n",
    "end"
   ]
  },
  {
   "cell_type": "code",
   "execution_count": null,
   "metadata": {},
   "outputs": [],
   "source": [
    "@show det_obj\n",
    "@show saa_obj\n",
    "@show ldr_obj\n",
    "@show ldr_p_obj\n",
    ";"
   ]
  },
  {
   "cell_type": "code",
   "execution_count": null,
   "metadata": {},
   "outputs": [],
   "source": [
    "det_v = 0.0\n",
    "@time for s in 1:S_out\n",
    "    det_v += run_scenario(det_x, scenario_demand_out[:, s]) / S_out\n",
    "end\n",
    "@show det_v\n",
    "saa_v = 0.0\n",
    "for s in 1:S_out\n",
    "    saa_v += run_scenario(saa_x, scenario_demand_out[:, s]) / S_out\n",
    "end\n",
    "@show saa_v\n",
    "ldr_v = 0.0\n",
    "for s in 1:S_out\n",
    "    ldr_v += run_scenario(ldr_x, scenario_demand_out[:, s]) / S_out\n",
    "end\n",
    "@show ldr_v\n",
    "ldr_p_v = 0.0\n",
    "for s in 1:S_out\n",
    "    ldr_p_v += run_scenario(ldr_p_x, scenario_demand_out[:, s]) / S_out\n",
    "end\n",
    "@show ldr_p_v\n",
    ";"
   ]
  },
  {
   "cell_type": "code",
   "execution_count": null,
   "metadata": {},
   "outputs": [],
   "source": [
    "function apply_rule(_rule_g, _demand)\n",
    "    return [\n",
    "        sum(_rule_g[i, t, lag, p] * (_demand[t + 1 - lag])^p for p in 0:poly_size, lag in 1:min(t, max_lag))\n",
    "        for i in keys(data[\"Generators\"]), t in 1:T\n",
    "    ]\n",
    "end"
   ]
  },
  {
   "cell_type": "code",
   "execution_count": null,
   "metadata": {},
   "outputs": [],
   "source": [
    "for s in 1:S_out\n",
    "    print(s, \" -> \")\n",
    "    new_g = apply_rule(ldr_rule_g, scenario_demand_out[:, s])\n",
    "    neg_gen = - clamp.(new_g, -Inf, 0.0)\n",
    "    if sum(neg_gen) > 1e-8\n",
    "        #println(\"  Found negative generation\")\n",
    "        #@show neg_gen\n",
    "        @show sum(neg_gen, dims=1)\n",
    "    else\n",
    "        println()\n",
    "    end\n",
    "end"
   ]
  }
 ],
 "metadata": {
  "kernelspec": {
   "display_name": "Julia 1.11.4",
   "language": "julia",
   "name": "julia-1.11"
  },
  "language_info": {
   "file_extension": ".jl",
   "mimetype": "application/julia",
   "name": "julia",
   "version": "1.11.4"
  }
 },
 "nbformat": 4,
 "nbformat_minor": 2
}
